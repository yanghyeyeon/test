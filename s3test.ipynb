{
 "cells": [
  {
   "cell_type": "code",
   "execution_count": 1,
   "metadata": {},
   "outputs": [
    {
     "name": "stdout",
     "output_type": "stream",
     "text": [
      "Collecting boto3\n",
      "  Downloading boto3-1.35.69-py3-none-any.whl.metadata (6.7 kB)\n",
      "Collecting botocore<1.36.0,>=1.35.69 (from boto3)\n",
      "  Downloading botocore-1.35.69-py3-none-any.whl.metadata (5.7 kB)\n",
      "Collecting jmespath<2.0.0,>=0.7.1 (from boto3)\n",
      "  Downloading jmespath-1.0.1-py3-none-any.whl.metadata (7.6 kB)\n",
      "Collecting s3transfer<0.11.0,>=0.10.0 (from boto3)\n",
      "  Downloading s3transfer-0.10.4-py3-none-any.whl.metadata (1.7 kB)\n",
      "Requirement already satisfied: python-dateutil<3.0.0,>=2.1 in c:\\users\\20118\\miniforge3\\envs\\langchain_env\\lib\\site-packages (from botocore<1.36.0,>=1.35.69->boto3) (2.9.0.post0)\n",
      "Requirement already satisfied: urllib3!=2.2.0,<3,>=1.25.4 in c:\\users\\20118\\miniforge3\\envs\\langchain_env\\lib\\site-packages (from botocore<1.36.0,>=1.35.69->boto3) (2.2.3)\n",
      "Requirement already satisfied: six>=1.5 in c:\\users\\20118\\miniforge3\\envs\\langchain_env\\lib\\site-packages (from python-dateutil<3.0.0,>=2.1->botocore<1.36.0,>=1.35.69->boto3) (1.16.0)\n",
      "Downloading boto3-1.35.69-py3-none-any.whl (139 kB)\n",
      "Downloading botocore-1.35.69-py3-none-any.whl (13.0 MB)\n",
      "   ---------------------------------------- 0.0/13.0 MB ? eta -:--:--\n",
      "   --------------------------------- ------ 11.0/13.0 MB 52.9 MB/s eta 0:00:01\n",
      "   ---------------------------------------- 13.0/13.0 MB 42.9 MB/s eta 0:00:00\n",
      "Downloading jmespath-1.0.1-py3-none-any.whl (20 kB)\n",
      "Downloading s3transfer-0.10.4-py3-none-any.whl (83 kB)\n",
      "Installing collected packages: jmespath, botocore, s3transfer, boto3\n",
      "Successfully installed boto3-1.35.69 botocore-1.35.69 jmespath-1.0.1 s3transfer-0.10.4\n"
     ]
    }
   ],
   "source": [
    "!pip install boto3"
   ]
  },
  {
   "cell_type": "code",
   "execution_count": 1,
   "metadata": {},
   "outputs": [],
   "source": [
    "from dotenv import load_dotenv\n",
    "import os\n",
    "\n",
    "# .env 파일 로드\n",
    "load_dotenv()\n",
    "\n",
    "# 환경 변수에서 값 가져오기\n",
    "aws_access_key_id = os.getenv('AWS_ACCESS_KEY_ID')\n",
    "aws_secret_access_key = os.getenv('AWS_SECRET_ACCESS_KEY')\n",
    "aws_region = os.getenv('AWS_REGION', 'ap-northeast-2')\n",
    "bucket_name = os.getenv('BUCKET_NAME')  # .env 파일에 버킷 이름도 추가하세요"
   ]
  },
  {
   "cell_type": "code",
   "execution_count": 2,
   "metadata": {},
   "outputs": [
    {
     "name": "stdout",
     "output_type": "stream",
     "text": [
      "연결 성공!\n",
      "Available buckets: ['banghyang']\n"
     ]
    }
   ],
   "source": [
    "import boto3\n",
    "\n",
    "s3 = boto3.client(\n",
    "    's3',\n",
    "    aws_access_key_id=os.getenv('AWS_ACCESS_KEY_ID'),\n",
    "    aws_secret_access_key=os.getenv('AWS_SECRET_ACCESS_KEY'),\n",
    "    region_name=os.getenv('AWS_REGION')\n",
    ")\n",
    "\n",
    "# 간단한 테스트: 버킷 리스트 조회\n",
    "try:\n",
    "    response = s3.list_buckets()\n",
    "    print(\"연결 성공!\")\n",
    "    print(\"Available buckets:\", [bucket['Name'] for bucket in response['Buckets']])\n",
    "except Exception as e:\n",
    "    print(f\"연결 실패: {e}\")"
   ]
  },
  {
   "cell_type": "code",
   "execution_count": 3,
   "metadata": {},
   "outputs": [
    {
     "name": "stdout",
     "output_type": "stream",
     "text": [
      "파일 업로드 성공: uploads/test.jpg\n",
      "파일 URL: https://banghyang.s3.ap-northeast-2.amazonaws.com/uploads/test.jpg\n"
     ]
    }
   ],
   "source": [
    "from botocore.exceptions import ClientError\n",
    "\n",
    "def upload_file(file_path, bucket, object_name=None):\n",
    "    \"\"\"\n",
    "    파일을 S3에 업로드\n",
    "    \n",
    "    :param file_path: 업로드할 로컬 파일 경로\n",
    "    :param bucket: 버킷 이름\n",
    "    :param object_name: S3에 저장될 객체 이름 (없으면 파일 이름 사용)\n",
    "    \"\"\"\n",
    "    # object_name이 지정되지 않은 경우 파일 이름 사용\n",
    "    if object_name is None:\n",
    "        object_name = os.path.basename(file_path)\n",
    "    \n",
    "    try:\n",
    "        s3.upload_file(file_path, bucket, object_name)\n",
    "        print(f\"파일 업로드 성공: {object_name}\")\n",
    "        \n",
    "        # 업로드된 파일의 URL 생성\n",
    "        url = f\"https://{bucket}.s3.{aws_region}.amazonaws.com/{object_name}\"\n",
    "        print(f\"파일 URL: {url}\")\n",
    "        \n",
    "        return True\n",
    "    except ClientError as e:\n",
    "        print(f\"업로드 실패: {e}\")\n",
    "        return False\n",
    "\n",
    "# 테스트\n",
    "if __name__ == \"__main__\":\n",
    "    # 업로드할 파일 경로 (실제 경로로 변경하세요)\n",
    "    file_path = \"unnamed.jpg\"  # 예: \"C:/Users/user/pictures/test.jpg\" or \"/home/user/pictures/test.jpg\"\n",
    "    \n",
    "    # S3에 저장될 경로/파일명 (선택사항)\n",
    "    object_name = \"uploads/test.jpg\"  # 폴더 구조를 포함할 수 있습니다\n",
    "    \n",
    "    # 파일 업로드 실행\n",
    "    upload_file(file_path, bucket_name, object_name)"
   ]
  }
 ],
 "metadata": {
  "kernelspec": {
   "display_name": "langchain_env",
   "language": "python",
   "name": "python3"
  },
  "language_info": {
   "codemirror_mode": {
    "name": "ipython",
    "version": 3
   },
   "file_extension": ".py",
   "mimetype": "text/x-python",
   "name": "python",
   "nbconvert_exporter": "python",
   "pygments_lexer": "ipython3",
   "version": "3.11.10"
  }
 },
 "nbformat": 4,
 "nbformat_minor": 2
}
