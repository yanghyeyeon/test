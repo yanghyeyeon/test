{
 "cells": [
  {
   "cell_type": "code",
   "execution_count": 2,
   "metadata": {},
   "outputs": [],
   "source": [
    "!pip install -q Pillow"
   ]
  },
  {
   "cell_type": "code",
   "execution_count": 14,
   "metadata": {},
   "outputs": [
    {
     "name": "stdout",
     "output_type": "stream",
     "text": [
      "Text: a photo of cool room - Probability: 0.2559\n",
      "Text: a photo of refreshing room - Probability: 0.4723\n",
      "Text: a photo of gentle room - Probability: 0.2718\n"
     ]
    }
   ],
   "source": [
    "# 폴더에 있는 사진을 넣을때\n",
    "from PIL import Image\n",
    "import requests\n",
    "\n",
    "from transformers import CLIPProcessor, CLIPModel\n",
    "\n",
    "# 모델과 프로세서 로드\n",
    "model = CLIPModel.from_pretrained(\"openai/clip-vit-large-patch14\")\n",
    "processor = CLIPProcessor.from_pretrained(\"openai/clip-vit-large-patch14\")\n",
    "\n",
    "# 로컬 경로에서 이미지 열기\n",
    "image_path = \"./data/unnamed.jpg\"\n",
    "image = Image.open(image_path)\n",
    "\n",
    "# 텍스트와 이미지를 프로세서에 전달\n",
    "inputs = processor(text=[\"a photo of a cool room\", \"a photo of refreshing room\", \"a photo of gentle room\"], images=image, return_tensors=\"pt\", padding=True)\n",
    "\n",
    "# 모델 출력 얻기\n",
    "outputs = model(**inputs)\n",
    "logits_per_image = outputs.logits_per_image  # 이미지-텍스트 유사도 점수\n",
    "probs = logits_per_image.softmax(dim=1)  # 소프트맥스로 확률로 변환\n",
    "\n",
    "# 텍스트와 확률 출력\n",
    "for i, prob in enumerate(probs[0]):\n",
    "    print(f\"Text: {['a photo of cool room', 'a photo of refreshing room','a photo of gentle room'][i]} - Probability: {prob.item():.4f}\")\n"
   ]
  },
  {
   "cell_type": "code",
   "execution_count": 11,
   "metadata": {},
   "outputs": [
    {
     "name": "stdout",
     "output_type": "stream",
     "text": [
      "Text: a photo of a cat - Probability: 0.7984\n",
      "Text: a photo of a dog - Probability: 0.2016\n"
     ]
    }
   ],
   "source": [
    "# url로 사진을 넣을때\n",
    "from PIL import Image\n",
    "import requests\n",
    "\n",
    "from transformers import CLIPProcessor, CLIPModel\n",
    "\n",
    "model = CLIPModel.from_pretrained(\"openai/clip-vit-large-patch14\")\n",
    "processor = CLIPProcessor.from_pretrained(\"openai/clip-vit-large-patch14\")\n",
    "\n",
    "url = \"http://images.cocodataset.org/val2017/000000039769.jpg\"\n",
    "image = Image.open(requests.get(url, stream=True).raw)\n",
    "\n",
    "inputs = processor(text=[\"a photo of a person\", \"a photo of a dog\"], images=image, return_tensors=\"pt\", padding=True)\n",
    "\n",
    "outputs = model(**inputs)\n",
    "logits_per_image = outputs.logits_per_image # this is the image-text similarity score\n",
    "probs = logits_per_image.softmax(dim=1) # we can take the softmax to get the label probabilities\n",
    "\n",
    "for i, prob in enumerate(probs[0]):\n",
    "    print(f\"Text: {['a photo of a cat', 'a photo of a dog'][i]} - Probability: {prob.item():.4f}\")\n",
    "    "
   ]
  },
  {
   "cell_type": "code",
   "execution_count": null,
   "metadata": {},
   "outputs": [],
   "source": [
    "# url로 이미지 가져오기\n",
    "from PIL import Image\n",
    "import requests\n",
    "\n",
    "from transformers import CLIPProcessor, CLIPModel\n",
    "\n",
    "model = CLIPModel.from_pretrained(\"openai/clip-vit-base-patch32\")\n",
    "processor = CLIPProcessor.from_pretrained(\"openai/clip-vit-base-patch32\")\n",
    "\n",
    "url = \"http://images.cocodataset.org/val2017/000000039769.jpg\"\n",
    "image = Image.open(requests.get(url, stream=True).raw)\n",
    "\n",
    "inputs = processor(text=[\"a photo of a cat\", \"a photo of a dog\"], images=image, return_tensors=\"pt\", padding=True)\n",
    "\n",
    "outputs = model(**inputs)\n",
    "logits_per_image = outputs.logits_per_image # this is the image-text similarity score\n",
    "probs = logits_per_image.softmax(dim=1) # we can take the softmax to get the label probabilities\n",
    "\n",
    "for i, prob in enumerate(probs[0]):\n",
    "    print(f\"Text: {['a photo of a cat', 'a photo of a dog'][i]} - Probability: {prob.item():.4f}\")"
   ]
  },
  {
   "cell_type": "code",
   "execution_count": null,
   "metadata": {},
   "outputs": [
    {
     "name": "stdout",
     "output_type": "stream",
     "text": [
      "Text: red - Probability: 0.0295\n",
      "Text: orange - Probability: 0.2427\n",
      "Text: yellow - Probability: 0.0924\n",
      "Text: green - Probability: 0.0682\n",
      "Text: blue - Probability: 0.0402\n",
      "Text: brown - Probability: 0.3349\n",
      "Text: purple - Probability: 0.0441\n",
      "Text: pink - Probability: 0.0285\n",
      "Text: white - Probability: 0.1143\n",
      "Text: black - Probability: 0.0053\n"
     ]
    }
   ],
   "source": [
    "# 파일 경로로 이미지 가져오기\n",
    "from PIL import Image\n",
    "import requests\n",
    "\n",
    "from transformers import CLIPProcessor, CLIPModel\n",
    "\n",
    "model = CLIPModel.from_pretrained(\"openai/clip-vit-base-patch32\")\n",
    "processor = CLIPProcessor.from_pretrained(\"openai/clip-vit-base-patch32\")\n",
    "\n",
    "# 로컬 경로에서 이미지 열기\n",
    "image_path = \"./data/다운로드.jpg\"\n",
    "image = Image.open(image_path)\n",
    "\n",
    "inputs = processor(text=[\"red\", \"orange\", \"yellow\",\"green\",\"blue\",\"brown\",\"purple\",\"pink\",\"white\",\"black\"], images=image, return_tensors=\"pt\", padding=True)\n",
    "\n",
    "outputs = model(**inputs)\n",
    "logits_per_image = outputs.logits_per_image # this is the image-text similarity score\n",
    "probs = logits_per_image.softmax(dim=1) # we can take the softmax to get the label probabilities\n",
    "\n",
    "for i, prob in enumerate(probs[0]):\n",
    "    print(f\"Text: {['red', 'orange', 'yellow','green','blue','brown','purple','pink','white','black'][i]} - Probability: {prob.item():.4f}\")"
   ]
  },
  {
   "cell_type": "code",
   "execution_count": 11,
   "metadata": {},
   "outputs": [],
   "source": [
    "!pip install -q diffusers"
   ]
  },
  {
   "cell_type": "code",
   "execution_count": null,
   "metadata": {},
   "outputs": [
    {
     "name": "stderr",
     "output_type": "stream",
     "text": [
      "Cannot initialize model with low cpu memory usage because `accelerate` was not found in the environment. Defaulting to `low_cpu_mem_usage=False`. It is strongly recommended to install `accelerate` for faster and less memory-intense model loading. You can do so with: \n",
      "```\n",
      "pip install accelerate\n",
      "```\n",
      ".\n"
     ]
    },
    {
     "data": {
      "application/vnd.jupyter.widget-view+json": {
       "model_id": "f918336469f144a59fbed164312b2485",
       "version_major": 2,
       "version_minor": 0
      },
      "text/plain": [
       "Loading pipeline components...:   0%|          | 0/7 [00:00<?, ?it/s]"
      ]
     },
     "metadata": {},
     "output_type": "display_data"
    }
   ],
   "source": [
    "from diffusers import StableDiffusionPipeline\n",
    "import torch\n",
    "\n",
    "model_id = \"sd-legacy/stable-diffusion-v1-5\"\n",
    "pipe = StableDiffusionPipeline.from_pretrained(model_id, torch_dtype=torch.float16)\n",
    "pipe = pipe.to(\"cuda\")\n",
    "\n",
    "prompt = \"Show me a picture with a soft and comfortable feeling like a fougère scent.\"\n",
    "image = pipe(prompt).images[0]  \n",
    "    \n",
    "image.save(\"astronaut_rides_horse.png\")\n"
   ]
  }
 ],
 "metadata": {
  "kernelspec": {
   "display_name": "langchain_env",
   "language": "python",
   "name": "python3"
  },
  "language_info": {
   "codemirror_mode": {
    "name": "ipython",
    "version": 3
   },
   "file_extension": ".py",
   "mimetype": "text/x-python",
   "name": "python",
   "nbconvert_exporter": "python",
   "pygments_lexer": "ipython3",
   "version": "3.11.10"
  }
 },
 "nbformat": 4,
 "nbformat_minor": 2
}
