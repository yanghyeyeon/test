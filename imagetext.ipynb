{
 "cells": [
  {
   "cell_type": "code",
   "execution_count": 1,
   "metadata": {},
   "outputs": [
    {
     "name": "stdout",
     "output_type": "stream",
     "text": [
      "Collecting pytesseract\n",
      "  Downloading pytesseract-0.3.13-py3-none-any.whl.metadata (11 kB)\n",
      "Requirement already satisfied: pillow in c:\\users\\20118\\miniforge3\\envs\\langchain_env\\lib\\site-packages (11.0.0)\n",
      "Requirement already satisfied: packaging>=21.3 in c:\\users\\20118\\miniforge3\\envs\\langchain_env\\lib\\site-packages (from pytesseract) (24.1)\n",
      "Downloading pytesseract-0.3.13-py3-none-any.whl (14 kB)\n",
      "Installing collected packages: pytesseract\n",
      "Successfully installed pytesseract-0.3.13\n"
     ]
    }
   ],
   "source": [
    "!pip install pytesseract pillow"
   ]
  },
  {
   "cell_type": "code",
   "execution_count": null,
   "metadata": {},
   "outputs": [
    {
     "name": "stdout",
     "output_type": "stream",
     "text": [
      "ㄷ ㄴ ㅇ ㅇ 쁘 느 느 요 느 느 스 키 01 느 1- 르 스 키 거 느 즈 느\n",
      "\n",
      "메 인 의 코드\n",
      "\" 자 몽 , 플 로 럴 노 트 , 베 티 버 , 시 더 , 블 랙 베 리 , 월 계 수 잎 ”\n",
      "\n",
      "51791640665\n",
      "\n",
      "블 랙 베 리 , 월 계 수 잎 , 자 몽 ,\n",
      "플 로 럴 노 트 , 베 티 버\n",
      "\n",
      "지 속 력 계 절\n",
      "( 짧 음 (2~6 시 간 ) 사 계 절 데 일 리\n",
      "\n",
      "( 이\n",
      "도\n",
      "\n",
      "13\n",
      "\n",
      "」\n",
      "Ｌ\n",
      "\n"
     ]
    }
   ],
   "source": [
    "# 이미지에서 텍스트 추출\n",
    "from PIL import Image\n",
    "import pytesseract\n",
    "\n",
    "# Tesseract 실행 경로 설정 (윈도우의 경우)\n",
    "pytesseract.pytesseract.tesseract_cmd = r'C:\\Program Files\\Tesseract-OCR\\tesseract.exe'\n",
    "\n",
    "# 이미지 열기\n",
    "image_path = './data/875e475a6ce826537880e5a554d0388c.jpg'\n",
    "img = Image.open(image_path)\n",
    "\n",
    "# OCR 실행\n",
    "text = pytesseract.image_to_string(img, lang='kor')  # 'kor'은 한국어 OCR을 위한 설정\n",
    "print(text)\n"
   ]
  },
  {
   "cell_type": "code",
   "execution_count": 2,
   "metadata": {},
   "outputs": [
    {
     "data": {
      "text/plain": [
       "('여 유 롭 게 내 려 앉 는 가 을 의 햇 빛\\n나 란 히 앉 은 그 이 의 어 깨 에 서 느 껴 지는\\n나 긋 한 배려\\n',\n",
       " 'Scent Type\\n\\nTOP 가 을 O18, 세 이 지\\n\\nMIDDLE 시 나 몬 22, 클 로 브\\n\\nBASE 파 출 리 , 버 지 니 아 시 더 우 드 , 앰 버 , HAS\\n\\n')"
      ]
     },
     "execution_count": 2,
     "metadata": {},
     "output_type": "execute_result"
    }
   ],
   "source": [
    "# Load and perform OCR on the new images separately\n",
    "\n",
    "# First image with text: \"여유롭게 내려 앉는 가을의 햇빛 나란히 앉은 그의 어깨에서 느껴지는 나긋한 배려\"\n",
    "first_image_path = './data/image_1.png'\n",
    "first_img = Image.open(first_image_path)\n",
    "first_text = pytesseract.image_to_string(first_img, lang='kor')\n",
    "\n",
    "# Second image with text: Scent Type\n",
    "second_image_path = './data/image_2.png'\n",
    "second_img = Image.open(second_image_path)\n",
    "second_text = pytesseract.image_to_string(second_img, lang='kor+eng')\n",
    "\n",
    "# Display both extracted texts\n",
    "first_text, second_text"
   ]
  },
  {
   "cell_type": "code",
   "execution_count": null,
   "metadata": {},
   "outputs": [
    {
     "name": "stdout",
     "output_type": "stream",
     "text": [
      "Processing C:\\Users\\20118\\Desktop\\hyeyeon\\00_practice\\data\\875e475a6ce826537880e5a554d0388c.jpg...\n",
      "No keywords found in 875e475a6ce826537880e5a554d0388c.jpg\n",
      "Processing C:\\Users\\20118\\Desktop\\hyeyeon\\00_practice\\data\\90348193_1481885851969278_5979735086201831424_n.jpg...\n",
      "No keywords found in 90348193_1481885851969278_5979735086201831424_n.jpg\n",
      "Processing C:\\Users\\20118\\Desktop\\hyeyeon\\00_practice\\data\\be245010-1dbd-11ef-8052-3d37e265c731.jpeg...\n",
      "No text extracted from be245010-1dbd-11ef-8052-3d37e265c731.jpeg\n",
      "Processing C:\\Users\\20118\\Desktop\\hyeyeon\\00_practice\\data\\image_1.png...\n",
      "No keywords found in image_1.png\n",
      "Processing C:\\Users\\20118\\Desktop\\hyeyeon\\00_practice\\data\\image_2.png...\n",
      "No keywords found in image_2.png\n",
      "Processing C:\\Users\\20118\\Desktop\\hyeyeon\\00_practice\\data\\KakaoTalk_20241106_093251223_02.jpg...\n",
      "No text extracted from KakaoTalk_20241106_093251223_02.jpg\n",
      "Processing C:\\Users\\20118\\Desktop\\hyeyeon\\00_practice\\data\\unnamed.jpg...\n",
      "No text extracted from unnamed.jpg\n",
      "Processing C:\\Users\\20118\\Desktop\\hyeyeon\\00_practice\\data\\다운로드.jpg...\n",
      "No text extracted from 다운로드.jpg\n"
     ]
    }
   ],
   "source": [
    "# 폴더에 있는 이미지에서 텍스트 추출과 필요한 단어 추출\n",
    "import pytesseract\n",
    "from PIL import Image\n",
    "import os\n",
    "\n",
    "# 텍스트 추출 함수\n",
    "def extract_text_from_image(image_path):\n",
    "    try:\n",
    "        img = Image.open(image_path)  # 이미지 열기\n",
    "        text = pytesseract.image_to_string(img, lang='kor')  # 한국어로 OCR 실행\n",
    "        \n",
    "        # 인코딩 문제 해결: utf-8로 텍스트 처리\n",
    "        text = text.encode('utf-8', errors='ignore').decode('utf-8')  # utf-8로 인코딩 후 디코딩\n",
    "        \n",
    "        return text\n",
    "    except Exception as e:\n",
    "        print(f\"Error processing {image_path}: {e}\")\n",
    "        return None\n",
    "\n",
    "# 찾고자 하는 단어 목록\n",
    "keywords = ['시나몬', '클로브', '버지니아', '시더우드', '앰버']\n",
    "\n",
    "# 이미지가 저장된 디렉토리 경로\n",
    "image_folder = r'C:\\Users\\20118\\Desktop\\hyeyeon\\00_practice\\data'\n",
    "\n",
    "# 이미지 처리\n",
    "for image_name in os.listdir(image_folder):\n",
    "    if image_name.lower().endswith(('.png', '.jpg', '.jpeg')):\n",
    "        image_path = os.path.join(image_folder, image_name)\n",
    "        print(f\"Processing {image_path}...\")\n",
    "\n",
    "        # 이미지에서 텍스트 추출\n",
    "        text = extract_text_from_image(image_path)\n",
    "\n",
    "        if text:\n",
    "            # 텍스트에서 키워드 찾기\n",
    "            found_keywords = [word for word in keywords if word in text]\n",
    "            if found_keywords:\n",
    "                print(f\"Found keywords in {image_name}: {found_keywords}\")\n",
    "            else:\n",
    "                print(f\"No keywords found in {image_name}\")\n",
    "        else:\n",
    "            print(f\"No text extracted from {image_name}\")\n"
   ]
  },
  {
   "cell_type": "code",
   "execution_count": 9,
   "metadata": {},
   "outputs": [
    {
     "name": "stdout",
     "output_type": "stream",
     "text": [
      "Processing C:\\Users\\20118\\Desktop\\hyeyeon\\00_practice\\data\\875e475a6ce826537880e5a554d0388c.jpg...\n",
      "Found keywords in 875e475a6ce826537880e5a554d0388c.jpg: ['자몽']\n",
      "Processing C:\\Users\\20118\\Desktop\\hyeyeon\\00_practice\\data\\90348193_1481885851969278_5979735086201831424_n.jpg...\n",
      "No keywords found in 90348193_1481885851969278_5979735086201831424_n.jpg\n",
      "Processing C:\\Users\\20118\\Desktop\\hyeyeon\\00_practice\\data\\be245010-1dbd-11ef-8052-3d37e265c731.jpeg...\n",
      "No text extracted from be245010-1dbd-11ef-8052-3d37e265c731.jpeg\n",
      "Processing C:\\Users\\20118\\Desktop\\hyeyeon\\00_practice\\data\\image_1.png...\n",
      "No keywords found in image_1.png\n",
      "Processing C:\\Users\\20118\\Desktop\\hyeyeon\\00_practice\\data\\image_2.png...\n",
      "Found keywords in image_2.png: ['시나몬', '클로브', '버지니아', '시더우드', '앰버']\n",
      "Processing C:\\Users\\20118\\Desktop\\hyeyeon\\00_practice\\data\\KakaoTalk_20241106_093251223_02.jpg...\n",
      "No text extracted from KakaoTalk_20241106_093251223_02.jpg\n",
      "Processing C:\\Users\\20118\\Desktop\\hyeyeon\\00_practice\\data\\unnamed.jpg...\n",
      "No text extracted from unnamed.jpg\n",
      "Processing C:\\Users\\20118\\Desktop\\hyeyeon\\00_practice\\data\\다운로드.jpg...\n",
      "No text extracted from 다운로드.jpg\n"
     ]
    }
   ],
   "source": [
    "import pytesseract\n",
    "from PIL import Image\n",
    "import os\n",
    "import re\n",
    "\n",
    "# 텍스트 추출 함수\n",
    "def extract_text_from_image(image_path):\n",
    "    try:\n",
    "        img = Image.open(image_path)  # 이미지 열기\n",
    "        text = pytesseract.image_to_string(img, lang='kor')  # 한국어로 OCR 실행\n",
    "        \n",
    "        # 인코딩 문제 해결: utf-8로 텍스트 처리\n",
    "        text = text.encode('utf-8', errors='ignore').decode('utf-8')  # utf-8로 인코딩 후 디코딩\n",
    "\n",
    "        # 한글자씩 띄어쓰기를 없애는 전처리\n",
    "        text = re.sub(r'(?<=[가-힣]) (?=[가-힣])', '', text)  # 띄어쓰기가 있으면 없애는 정규 표현식\n",
    "\n",
    "        return text\n",
    "    except Exception as e:\n",
    "        print(f\"Error processing {image_path}: {e}\")\n",
    "        return None\n",
    "\n",
    "# 찾고자 하는 단어 목록\n",
    "keywords = ['시나몬', '클로브', '버지니아', '시더우드', '앰버','자몽']\n",
    "\n",
    "# 이미지가 저장된 디렉토리 경로\n",
    "image_folder = r'C:\\Users\\20118\\Desktop\\hyeyeon\\00_practice\\data'\n",
    "\n",
    "# 이미지 처리\n",
    "for image_name in os.listdir(image_folder):\n",
    "    if image_name.lower().endswith(('.png', '.jpg', '.jpeg')):\n",
    "        image_path = os.path.join(image_folder, image_name)\n",
    "        print(f\"Processing {image_path}...\")\n",
    "\n",
    "        # 이미지에서 텍스트 추출\n",
    "        text = extract_text_from_image(image_path)\n",
    "\n",
    "        if text:\n",
    "            # 텍스트에서 키워드 찾기\n",
    "            found_keywords = [word for word in keywords if word in text]\n",
    "            if found_keywords:\n",
    "                print(f\"Found keywords in {image_name}: {found_keywords}\")\n",
    "            else:\n",
    "                print(f\"No keywords found in {image_name}\")\n",
    "        else:\n",
    "            print(f\"No text extracted from {image_name}\")\n"
   ]
  }
 ],
 "metadata": {
  "kernelspec": {
   "display_name": "langchain_env",
   "language": "python",
   "name": "python3"
  },
  "language_info": {
   "codemirror_mode": {
    "name": "ipython",
    "version": 3
   },
   "file_extension": ".py",
   "mimetype": "text/x-python",
   "name": "python",
   "nbconvert_exporter": "python",
   "pygments_lexer": "ipython3",
   "version": "3.11.10"
  }
 },
 "nbformat": 4,
 "nbformat_minor": 2
}
